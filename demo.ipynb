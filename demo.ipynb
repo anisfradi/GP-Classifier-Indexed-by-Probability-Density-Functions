{
 "cells": [
  {
   "cell_type": "markdown",
   "metadata": {},
   "source": [
    "# import librairies"
   ]
  },
  {
   "cell_type": "code",
   "execution_count": null,
   "metadata": {},
   "outputs": [],
   "source": [
    "import numpy as np\n",
    "import scipy.io as sio\n",
    "from scipy.stats import beta\n",
    "import matplotlib.pyplot as plt\n",
    "import seaborn as sns"
   ]
  },
  {
   "cell_type": "markdown",
   "metadata": {},
   "source": [
    "# construct two classes of probability density functions (PDFs) from beta distributions"
   ]
  },
  {
   "cell_type": "code",
   "execution_count": null,
   "metadata": {},
   "outputs": [],
   "source": [
    "a1, b1 = 2, 2 # parameters of class 1 \n",
    "a2, b2 = 1.8, 2 # parameters of class 2"
   ]
  },
  {
   "cell_type": "markdown",
   "metadata": {},
   "source": [
    "# define inputs (time instances)"
   ]
  },
  {
   "cell_type": "code",
   "execution_count": null,
   "metadata": {},
   "outputs": [],
   "source": [
    "d=100 # fix the number of points per PDF\n",
    "t = np.linspace(0,1, d) "
   ]
  },
  {
   "cell_type": "markdown",
   "metadata": {},
   "source": [
    "# simulate PDFs"
   ]
  },
  {
   "cell_type": "code",
   "execution_count": null,
   "metadata": {},
   "outputs": [],
   "source": [
    "Nsimulations=500 # fix the number of observations per class\n",
    "p1=np.zeros([Nsimulations,d]) # initialize the first class\n",
    "p2=np.zeros([Nsimulations,d]) # initialize the second class\n",
    "for i in range(Nsimulations):\n",
    "    p1[i,:]=beta.pdf(t, a1+np.random.uniform(-0.2,0.2), b1) # PDFs of the first class\n",
    "    p2[i,:]=beta.pdf(t, a2+np.random.uniform(-0.2,0.2), b2) # PDFs of the second class"
   ]
  },
  {
   "cell_type": "markdown",
   "metadata": {},
   "source": [
    "# plot some examples of PDFs (the integral should be equal to one)"
   ]
  },
  {
   "cell_type": "code",
   "execution_count": null,
   "metadata": {},
   "outputs": [],
   "source": [
    "sns.set_style(\"whitegrid\")\n",
    "plt.rcParams.update({'font.size': 25})\n",
    "plt.rcParams.update({'legend.fontsize': 25})\n",
    "plt.rcParams['font.weight'] = 'bold'\n",
    "\n",
    "fig = plt.figure(figsize=(20, 10))\n",
    "ax = fig.add_subplot(111)\n",
    "\n",
    "for j in range(50):\n",
    "    plt.plot(t,p1[j,:],color='b',label=\"Class 1\")\n",
    "    plt.plot(t,p2[j,:],color='r',label=\"Class 2\")\n",
    "    \n",
    "ax.legend(['Class 1', 'Class 2'], loc='best')\n",
    "\n",
    "plt.show()"
   ]
  },
  {
   "cell_type": "markdown",
   "metadata": {},
   "source": [
    "# find the corresponding square-root density functions (SRDFs) "
   ]
  },
  {
   "cell_type": "code",
   "execution_count": null,
   "metadata": {},
   "outputs": [],
   "source": [
    "psi1=np.sqrt(p1); psi2=np.sqrt(p2)"
   ]
  },
  {
   "cell_type": "markdown",
   "metadata": {},
   "source": [
    "# project the SRDFs into the tangent space of the Hilbert sphere at the unity pole: $\\mathbf{1}(t)=t$ using the $Log_\\mathbf{1}(.)$ map"
   ]
  },
  {
   "cell_type": "code",
   "execution_count": null,
   "metadata": {},
   "outputs": [],
   "source": [
    "def Log1(q): \n",
    "    x=np.linspace(0,1,len(q))\n",
    "    \"\"\"\"\"if np.trapz(q*1,x)>1:\n",
    "        z=0\n",
    "    else:\"\"\"\n",
    "    z=np.arccos(np.trapz(q*1,x))/np.sin(np.arccos(np.trapz(q*1,x)))*(q-(np.trapz(q,x))*np.ones(len(q)))\n",
    "    return(z)"
   ]
  },
  {
   "cell_type": "code",
   "execution_count": null,
   "metadata": {},
   "outputs": [],
   "source": [
    "g1=np.zeros([psi1.shape[0],psi1.shape[1]])\n",
    "g2=np.zeros([psi2.shape[0],psi2.shape[1]])\n",
    "\n",
    "for i in range(psi1.shape[0]):\n",
    "    g1[i,:]=Log1(psi1[i,:])\n",
    "    \n",
    "for i in range(psi2.shape[0]):\n",
    "    g2[i,:]=Log1(psi2[i,:]) "
   ]
  },
  {
   "cell_type": "markdown",
   "metadata": {},
   "source": [
    "# plot some examples of $Log_\\mathbf{1}(\\psi)$ (the integral should be equal to zero)"
   ]
  },
  {
   "cell_type": "code",
   "execution_count": null,
   "metadata": {},
   "outputs": [],
   "source": [
    "sns.set_style(\"whitegrid\")\n",
    "plt.rcParams.update({'font.size': 25})\n",
    "plt.rcParams.update({'legend.fontsize': 25})\n",
    "plt.rcParams['font.weight'] = 'bold'\n",
    "\n",
    "fig = plt.figure(figsize=(20, 10))\n",
    "ax = fig.add_subplot(111)\n",
    "\n",
    "for j in range(50):\n",
    "    plt.plot(t,g1[j,:],color='b',label=\"Class 1\")\n",
    "    plt.plot(t,g2[j,:],color='r',label=\"Class 2\")\n",
    "    \n",
    "ax.legend(['Class 1', 'Class 2'], loc='best')\n",
    "\n",
    "plt.show()"
   ]
  },
  {
   "cell_type": "markdown",
   "metadata": {},
   "source": [
    "# concatenate all projected functions together"
   ]
  },
  {
   "cell_type": "code",
   "execution_count": null,
   "metadata": {},
   "outputs": [],
   "source": [
    "g=np.concatenate((g1,g2)) \n",
    "np.shape(g)"
   ]
  },
  {
   "cell_type": "markdown",
   "metadata": {},
   "source": [
    "# construct the binary vector of outputs 0/1 "
   ]
  },
  {
   "cell_type": "code",
   "execution_count": null,
   "metadata": {},
   "outputs": [],
   "source": [
    "y = np.vstack((np.ones((p1.shape[0], 1)),np.zeros((p2.shape[0], 1))))\n",
    "n=len(y) # check dimension\n",
    "print(n)"
   ]
  },
  {
   "cell_type": "markdown",
   "metadata": {},
   "source": [
    "# import the sklearn library "
   ]
  },
  {
   "cell_type": "code",
   "execution_count": null,
   "metadata": {},
   "outputs": [],
   "source": [
    "import sklearn as sk\n",
    "from sklearn.metrics import accuracy_score, log_loss, roc_auc_score\n",
    "from sklearn.gaussian_process import GaussianProcessClassifier\n",
    "from sklearn.gaussian_process.kernels import RBF"
   ]
  },
  {
   "cell_type": "markdown",
   "metadata": {},
   "source": [
    "# results of the GP classifier applied to projected functions"
   ]
  },
  {
   "cell_type": "code",
   "execution_count": null,
   "metadata": {},
   "outputs": [],
   "source": [
    "import random\n",
    "\n",
    "gp_opt = GaussianProcessClassifier(kernel=1.0 * RBF(length_scale=1.0)) # fix the class of kernel \n",
    "\n",
    "ind=random.sample(range(0, n), int(3*n/4))\n",
    "index=np.isin(range(0, n), ind) # random split with 75% for training and 25% for test\n",
    "\n",
    "xtrain=g[index] # training input \n",
    "ytrain=y[index] # training output\n",
    "xtest=g[~index] # test input\n",
    "ytest=y[~index] # test output\n",
    "    \n",
    "gp_opt.fit(xtrain, ytrain) # learn the GP classifier\n",
    "\n",
    "NMLL=-gp_opt.log_marginal_likelihood(gp_opt.kernel_.theta) # negative marginal log-likelihood\n",
    "\n",
    "ACC=accuracy_score(ytest, gp_opt.predict(xtest)) # accuracy score\n",
    "\n",
    "AUC=roc_auc_score(ytest, gp_opt.predict_proba(xtest)[:, 1]) # AUC criteria\n",
    "        \n",
    "LOSS=log_loss(ytest, gp_opt.predict_proba(xtest)[:, 1]) # loss measure"
   ]
  },
  {
   "cell_type": "markdown",
   "metadata": {},
   "source": [
    "# display the optimal kernel parameters"
   ]
  },
  {
   "cell_type": "code",
   "execution_count": null,
   "metadata": {},
   "outputs": [],
   "source": [
    "print(gp_opt.kernel_) "
   ]
  },
  {
   "cell_type": "markdown",
   "metadata": {},
   "source": [
    "# plot the class 1 probability with test data together"
   ]
  },
  {
   "cell_type": "code",
   "execution_count": null,
   "metadata": {},
   "outputs": [],
   "source": [
    "sns.set_style(\"whitegrid\")\n",
    "plt.rcParams.update({'font.size': 25})\n",
    "plt.rcParams.update({'legend.fontsize': 25})\n",
    "plt.rcParams['font.weight'] = 'bold'\n",
    "\n",
    "fig = plt.figure(figsize=(20, 10))\n",
    "ax = fig.add_subplot(111)\n",
    "\n",
    "plt.scatter(range(1,ytest.shape[0]+1) , ytest, s=50,color='g', marker=(5, 0), label=\"Test data\")\n",
    "plt.scatter(range(1,ytest.shape[0]+1),gp_opt.predict_proba(xtest)[:, 1],s=50,color='b', marker=(5, 0),label=\"Class 1 probability\")\n",
    "plt.plot([1, ytest.shape[0]],[0.5, 0.5],c=\"r\")\n",
    "\n",
    "plt.ylim(-0.2, 1.2)\n",
    "plt.legend(loc=\"best\")\n",
    "plt.xticks([])\n",
    "plt.show()"
   ]
  },
  {
   "cell_type": "code",
   "execution_count": null,
   "metadata": {},
   "outputs": [],
   "source": []
  }
 ],
 "metadata": {
  "kernelspec": {
   "display_name": "Python 3",
   "language": "python",
   "name": "python3"
  },
  "language_info": {
   "codemirror_mode": {
    "name": "ipython",
    "version": 3
   },
   "file_extension": ".py",
   "mimetype": "text/x-python",
   "name": "python",
   "nbconvert_exporter": "python",
   "pygments_lexer": "ipython3",
   "version": "3.7.3"
  }
 },
 "nbformat": 4,
 "nbformat_minor": 2
}
